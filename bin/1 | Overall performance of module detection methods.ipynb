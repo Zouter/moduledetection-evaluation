{
 "cells": [
  {
   "cell_type": "markdown",
   "metadata": {},
   "source": [
    "# Overall performance of module detection methods"
   ]
  },
  {
   "cell_type": "code",
   "execution_count": 1,
   "metadata": {
    "collapsed": false
   },
   "outputs": [],
   "source": [
    "import sys\n",
    "import os\n",
    "sys.path.insert(0,os.path.abspath(\"../lib/\"))\n",
    "\n",
    "import json\n",
    "\n",
    "from util import JSONExtendedEncoder\n",
    "\n",
    "from modulecontainers import Modules\n",
    "\n",
    "%load_ext autoreload\n",
    "%autoreload 2\n",
    "\n",
    "%matplotlib inline\n",
    "from matplotlib.pyplot import *\n",
    "\n",
    "import pandas as pd\n",
    "import numpy as np\n",
    "\n",
    "from modulescomparison import Modeval\n",
    "\n",
    "import multiprocessing as mp\n",
    "pool = mp.Pool(mp.cpu_count())\n",
    "\n",
    "from collections import OrderedDict\n",
    "\n",
    "from itertools import product\n",
    "from collections import defaultdict\n",
    "\n",
    "import itertools\n",
    "import shutil\n",
    "\n",
    "conf_folder = \"conf/\"\n",
    "\n",
    "from modulescomparison import Modeval"
   ]
  },
  {
   "cell_type": "markdown",
   "metadata": {},
   "source": [
    "The following code will explore the parameters of a module detection method on every dataset using a grid-search approach.\n",
    "\n",
    "It will then score the observed modules with known modules obtained from known regulatory networks."
   ]
  },
  {
   "cell_type": "code",
   "execution_count": 2,
   "metadata": {
    "collapsed": false
   },
   "outputs": [],
   "source": [
    "datasetnames = [\"ecoli_colombos\", \"ecoli_dream5\", \"yeast_gpl2529\", \"yeast_dream5\"]"
   ]
  },
  {
   "cell_type": "markdown",
   "metadata": {},
   "source": [
    "Every module detection method is wrapped in a python function (see lib/moduledetection.py)\n",
    "\n",
    "Because module detection methods usually take a while to run (especially on , we generate the files necessary to run a method on the several parameter settings and datasets here. These can then be easily called from the commandline, for example on a computer cluster.\n",
    "\n",
    "This function will be called by scripts/moduledetection.py , which will save the modules in the correct format along with additional run information (such as running times)."
   ]
  },
  {
   "cell_type": "code",
   "execution_count": 3,
   "metadata": {
    "collapsed": false
   },
   "outputs": [],
   "source": [
    "# paramexplo_blueprints.py stores for every method the parameters which will be varied using a grid-search approach.\n",
    "%run ../conf/paramexplo_blueprints.py\n",
    "\n",
    "# choose the method to evaluate\n",
    "method_name = \"affinity\"\n",
    "methodblueprint = blueprints[method_name]"
   ]
  },
  {
   "cell_type": "code",
   "execution_count": 5,
   "metadata": {
    "collapsed": false
   },
   "outputs": [],
   "source": [
    "params_folder = \"conf/paramexplo/\" + method_name + \"/\"\n",
    "if os.path.exists(\"../\" + params_folder):\n",
    "    shutil.rmtree(\"../\" + params_folder)\n",
    "os.makedirs(\"../\" + params_folder)\n",
    "\n",
    "methodsettings = []\n",
    "method_locations = []\n",
    "nreplicates = 1 # number of replicates using different seeds\n",
    "i = 0\n",
    "for dynparam_combination in list(itertools.product(*[methodblueprint[\"dynparams\"][param] for param in sorted(methodblueprint[\"dynparams\"].keys())])):\n",
    "    for seed in range(nreplicates):\n",
    "        method = {\"params\":{}}\n",
    "        method[\"params\"] = methodblueprint[\"staticparams\"].copy()\n",
    "        method[\"params\"].update(dict(zip(sorted(methodblueprint[\"dynparams\"].keys()), dynparam_combination)))\n",
    "        method[\"location\"] = params_folder + str(i) + \".json\"\n",
    "        method[\"seed\"] = seed\n",
    "\n",
    "        methodsettings.append(method)\n",
    "\n",
    "        json.dump(method, open(\"../\" + method[\"location\"], \"w\"), cls=JSONExtendedEncoder)\n",
    "        \n",
    "        method_locations.append(method[\"location\"])\n",
    "\n",
    "        i+=1"
   ]
  },
  {
   "cell_type": "code",
   "execution_count": 6,
   "metadata": {
    "collapsed": false
   },
   "outputs": [],
   "source": [
    "settings_name = \"paramexplo/{method_name}\".format(method_name = method_name)\n",
    "settings = [{\n",
    "        \"dataset_location\":\"conf/datasets/\" + datasetname + \".json\",\n",
    "        \"dataset_name\":datasetname,\n",
    "        \"method_location\":methodsetting[\"location\"],\n",
    "        \"output_folder\":\"results/moduledetection/{settings_name}/{i}/\".format(settings_name=settings_name, i=i)\n",
    "    } for i, (datasetname, methodsetting) in enumerate(product(datasetnames, methodsettings))]\n",
    "json.dump(settings, open(\"../conf/settings/{settings_name}.json\".format(settings_name=settings_name), \"w\"))"
   ]
  },
  {
   "cell_type": "code",
   "execution_count": 7,
   "metadata": {
    "collapsed": false
   },
   "outputs": [
    {
     "name": "stdout",
     "output_type": "stream",
     "text": [
      "parallel -a tmp/paramexplo/affinity.txt\n"
     ]
    }
   ],
   "source": [
    "commands = \"\"\n",
    "for i, setting in enumerate(settings):\n",
    "    commands += \"python scripts/moduledetection.py {method_location} {dataset_location} {output_folder}\\n\".format(**setting)\n",
    "\n",
    "commands_location = \"tmp/{settings_name}.txt\".format(**locals())\n",
    "os.makedirs(\"../\" + os.path.dirname(commands_location), exist_ok=True)\n",
    "with open(\"../\" + commands_location, \"w\") as outfile:\n",
    "    outfile.write(commands)\n",
    "\n",
    "# this command can be used on most linux computers to run the different parameter settings in parallel\n",
    "print(\"parallel -a \" + commands_location)"
   ]
  },
  {
   "cell_type": "markdown",
   "metadata": {},
   "source": [
    "Compare these detected modules with known modules (stored along with the datasets in data/)."
   ]
  },
  {
   "cell_type": "code",
   "execution_count": 95,
   "metadata": {
    "collapsed": false
   },
   "outputs": [],
   "source": [
    "modeval = Modeval(settings_name)\n",
    "modeval.run(settings, pool)\n",
    "modeval.save()"
   ]
  },
  {
   "cell_type": "markdown",
   "metadata": {},
   "source": [
    "## Summarize across all methods"
   ]
  },
  {
   "cell_type": "markdown",
   "metadata": {},
   "source": [
    "Now calculate for every method and module definition the test and training scores for every dataset."
   ]
  },
  {
   "cell_type": "code",
   "execution_count": 11,
   "metadata": {
    "collapsed": true
   },
   "outputs": [],
   "source": [
    "scorename = \"F1norm_rprr\""
   ]
  },
  {
   "cell_type": "code",
   "execution_count": 12,
   "metadata": {
    "collapsed": true
   },
   "outputs": [],
   "source": [
    "methodnames = [\"flame\", \"kmedoids\", \"som\", \"kmeans\", \"cmeans\", \"spectral_similarity\", \n",
    "               \"affinity\", \"spectral_knn\", \"wgcna\", \"agglom\", \"hybrid\", \"divisive\", \n",
    "               \"sota\", \"dclust\", \"click\", \"dbscan\", \"meanshift\", \"clues\", \"ica_fdr\", \n",
    "               \"ica_zscore\", \"ica_percentage\", \"ipca\", \"pca\", \"spectral_biclust\", \n",
    "               \"isa\", \"biforce\", \"qubic\", \"plaid\", \"msbe\", \"opsm\", \"chengchurch\"]"
   ]
  },
  {
   "cell_type": "code",
   "execution_count": 13,
   "metadata": {
    "collapsed": false
   },
   "outputs": [
    {
     "name": "stdout",
     "output_type": "stream",
     "text": [
      "flame\n",
      "kmedoids\n",
      "som\n",
      "kmeans\n",
      "cmeans\n",
      "spectral_similarity\n",
      "affinity\n",
      "spectral_knn\n",
      "wgcna\n",
      "agglom\n",
      "hybrid\n",
      "divisive\n",
      "sota\n",
      "dclust\n",
      "click\n",
      "dbscan\n",
      "meanshift\n",
      "clues\n",
      "ica_fdr\n",
      "ica_zscore\n",
      "ica_percentage\n",
      "ipca\n",
      "pca\n",
      "spectral_biclust\n",
      "isa\n",
      "biforce\n",
      "qubic\n",
      "plaid\n",
      "msbe\n",
      "opsm\n",
      "chengchurch\n"
     ]
    }
   ],
   "source": [
    "finalscores = []\n",
    "for methodname in methodnames:\n",
    "    print(methodname)\n",
    "    \n",
    "    paramsoi = methodparamsoi[methodname]\n",
    "    \n",
    "    settings_name = \"paramexplo/\" + methodname\n",
    "    modeval = Modeval(settings_name)\n",
    "    modeval.load()\n",
    "    scores = modeval.scores\n",
    "    # kmodscores contains all scores of a method on a particular module definition\n",
    "    for kmodname, kmodscores in scores.groupby(\"knownmodules\"):\n",
    "        # get the best parameters on a dataset of reference (datasetor) and use these to score the performance on a dataset of interest (datasetoi)\n",
    "        for (datasetoiname, scoresoi), (datasetorname, scoresor) in product(kmodscores.groupby(\"datasetname\"), kmodscores.groupby(\"datasetname\")):\n",
    "            # find the most optimal method parameters\n",
    "            bestparams = scoresor[paramsoi].ix[scoresor[scorename].idxmax()]\n",
    "\n",
    "            # now find the of these parameters\n",
    "            rowids = scoresoi.index[np.where(np.all([scoresoi[param] == paramvalue for param, paramvalue in bestparams.items()], 0))[0]]\n",
    "\n",
    "            finalscores.append({\n",
    "                \"datasetoi\":datasetoiname,\n",
    "                \"datasetor\":datasetorname,\n",
    "                \"score\":scoresoi[scorename].ix[rowids].mean(),\n",
    "                \"method\":methodname,\n",
    "                \"kmodname\":kmodname\n",
    "            })\n",
    "finalscores = pd.DataFrame(finalscores)"
   ]
  },
  {
   "cell_type": "code",
   "execution_count": 14,
   "metadata": {
    "collapsed": false
   },
   "outputs": [],
   "source": [
    "trainingscores = finalscores.ix[finalscores[\"datasetoi\"] == finalscores[\"datasetor\"]].groupby(\"method\")[\"score\"].mean()\n",
    "testscores = finalscores.ix[finalscores[\"datasetoi\"] != finalscores[\"datasetor\"]].groupby(\"method\")[\"score\"].mean()"
   ]
  },
  {
   "cell_type": "markdown",
   "metadata": {},
   "source": [
    "Visualize training and test scores"
   ]
  },
  {
   "cell_type": "code",
   "execution_count": 15,
   "metadata": {
    "collapsed": false
   },
   "outputs": [],
   "source": [
    "method_categories = OrderedDict([\n",
    "    [\n",
    "        \"clustering\", \n",
    "        [\"flame\", \"kmedoids\", \"som\", \"kmeans\", \"cmeans\", \"spectral_similarity\", \"affinity\", \"spectral_knn\", \"wgcna\", \"agglom\", \"hybrid\", \"divisive\", \"sota\", \"dclust\", \"click\", \"dbscan\", \"meanshift\", \"clues\"]\n",
    "    \n",
    "    ],\n",
    "    [\n",
    "        \"decomposition\", \n",
    "        [\"ica_fdr\", \"ica_zscore\", \"ica_percentage\", \"ipca\", \"pca\"],\n",
    "    ],\n",
    "    [\n",
    "        \"biclustering\", \n",
    "        [\"spectral_biclust\", \"isa\", \"biforce\", \"qubic\", \"plaid\", \"msbe\", \"opsm\", \"chengchurch\"],\n",
    "    ]\n",
    "])\n",
    "method2category = {methodname:category for category,methodnames in method_categories.items() for methodname in methodnames}\n",
    "\n",
    "method_category_colors = modeval_category_colors = {\n",
    "    \"clustering\":\"#3498db\",\n",
    "    \"decomposition\":\"#9b59b6\",\n",
    "    \"biclustering\":\"#e74c3c\",\n",
    "    \"ni_graphclust\":\"#a4cc2e\",\n",
    "    \"iterativeni\":\"#FEB308\",\n",
    "    \"other\":\"#555555\"\n",
    "}\n",
    "method_category_backgroundcolors = {}\n",
    "for category, color in modeval_category_colors.items():\n",
    "    color = matplotlib.colors.rgb_to_hsv(matplotlib.colors.hex2color(color))\n",
    "    color[1] = 0.2\n",
    "    color[2] = 0.9\n",
    "    color = matplotlib.colors.hsv_to_rgb(color)\n",
    "    method_category_backgroundcolors[category] = color"
   ]
  },
  {
   "cell_type": "code",
   "execution_count": 16,
   "metadata": {
    "collapsed": false
   },
   "outputs": [
    {
     "data": {
      "text/plain": [
       "[<matplotlib.text.Text at 0x7f89361b8f98>,\n",
       " <matplotlib.text.Text at 0x7f893574b6d8>,\n",
       " <matplotlib.text.Text at 0x7f8934f497f0>,\n",
       " <matplotlib.text.Text at 0x7f8934f38240>,\n",
       " <matplotlib.text.Text at 0x7f8934f38c50>,\n",
       " <matplotlib.text.Text at 0x7f8934f1a6a0>,\n",
       " <matplotlib.text.Text at 0x7f8934f1e0f0>,\n",
       " <matplotlib.text.Text at 0x7f8934f1eb00>,\n",
       " <matplotlib.text.Text at 0x7f8934f13550>,\n",
       " <matplotlib.text.Text at 0x7f8934f13f60>,\n",
       " <matplotlib.text.Text at 0x7f89368089b0>,\n",
       " <matplotlib.text.Text at 0x7f89367f7400>,\n",
       " <matplotlib.text.Text at 0x7f89367f7e10>,\n",
       " <matplotlib.text.Text at 0x7f89367ee860>,\n",
       " <matplotlib.text.Text at 0x7f893681e2b0>,\n",
       " <matplotlib.text.Text at 0x7f893681ecc0>,\n",
       " <matplotlib.text.Text at 0x7f89367fb710>,\n",
       " <matplotlib.text.Text at 0x7f89367e8160>,\n",
       " <matplotlib.text.Text at 0x7f89367e8b70>,\n",
       " <matplotlib.text.Text at 0x7f89367f25c0>,\n",
       " <matplotlib.text.Text at 0x7f89367f2fd0>,\n",
       " <matplotlib.text.Text at 0x7f8936821a20>,\n",
       " <matplotlib.text.Text at 0x7f893681b470>,\n",
       " <matplotlib.text.Text at 0x7f893681be80>,\n",
       " <matplotlib.text.Text at 0x7f89367e98d0>,\n",
       " <matplotlib.text.Text at 0x7f8936824320>,\n",
       " <matplotlib.text.Text at 0x7f8936824d30>,\n",
       " <matplotlib.text.Text at 0x7f8936810780>,\n",
       " <matplotlib.text.Text at 0x7f893680b1d0>,\n",
       " <matplotlib.text.Text at 0x7f893680bbe0>,\n",
       " <matplotlib.text.Text at 0x7f89367f3630>]"
      ]
     },
     "execution_count": 16,
     "metadata": {},
     "output_type": "execute_result"
    },
    {
     "data": {
      "image/png": "[encoded data removed]",
      "text/plain": [
       "<matplotlib.figure.Figure at 0x7f893ec6ad68>"
      ]
     },
     "metadata": {},
     "output_type": "display_data"
    }
   ],
   "source": [
    "fig, ax = subplots(figsize=(15, 5))\n",
    "\n",
    "methodorder = testscores.order(ascending=False).index\n",
    "\n",
    "ax.bar(range(len(methodorder)), trainingscores[methodorder], color=[method_category_backgroundcolors[method2category[method]] for method in methodorder])\n",
    "ax.bar(range(len(methodorder)), testscores[methodorder], color=[method_category_colors[method2category[method]] for method in methodorder])\n",
    "ax.set_xlim(-0.2, len(methodorder))\n",
    "ax.set_xticks(np.arange(len(methodorder))+0.4)\n",
    "ax.set_xticklabels(methodorder, rotation=45, ha=\"right\", va=\"top\")"
   ]
  }
 ],
 "metadata": {
  "kernelspec": {
   "display_name": "Python 3",
   "language": "python",
   "name": "python3"
  },
  "language_info": {
   "codemirror_mode": {
    "name": "ipython",
    "version": 3
   },
   "file_extension": ".py",
   "mimetype": "text/x-python",
   "name": "python",
   "nbconvert_exporter": "python",
   "pygments_lexer": "ipython3",
   "version": "3.4.2"
  }
 },
 "nbformat": 4,
 "nbformat_minor": 0
}
